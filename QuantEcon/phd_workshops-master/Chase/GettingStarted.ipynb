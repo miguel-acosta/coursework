{
 "cells": [
  {
   "cell_type": "markdown",
   "metadata": {},
   "source": [
    "# Getting Started with Julia\n",
    "\n",
    "These instructions are mostly just a summary of the information included on\n",
    "\n",
    "https://lectures.quantecon.org/jl/getting_started.html\n",
    "\n",
    "Please see that page for more details"
   ]
  },
  {
   "cell_type": "markdown",
   "metadata": {},
   "source": [
    "## Installation\n",
    "\n",
    "Go to https://julialang.org/downloads/ and download the Julia 0.6 which corresponds to your operating system\n",
    "\n",
    "Once you have downloaded this file, follow the operating system specific instructions at https://julialang.org/downloads/platform.html\n",
    "\n",
    "**If you run into any trouble, please raise your hand and ask for help!**"
   ]
  },
  {
   "cell_type": "markdown",
   "metadata": {},
   "source": [
    "## Packages\n",
    "\n",
    "Julia comes with an automated package management system.\n",
    "\n",
    "### How does it work?\n",
    "\n",
    "Packages register themselves with the [higher power](https://github.com/tkelman).\n",
    "\n",
    "In order to become a registered package, some basic requirements such as tests, description of dependencies, and a descriptive `README` file.\n",
    "\n",
    "### Install and Uninstall (Registered) Packages\n",
    "\n",
    "Installation via `Pkg.add(\"PackageName\")`\n",
    "\n",
    "Uninstall via `Pkg.rm(\"PackageName\")`\n",
    "\n",
    "### Useful Packages\n",
    "\n",
    "A list of all registered packages (ordered by how many github star they have) can be found at: https://juliaobserver.com/packages\n",
    "\n",
    "Packages that we find useful\n",
    "\n",
    "* [BasisMatrices.jl](https://github.com/QuantEcon/BasisMatrices.jl): Interpolation based on CompEcon library by Miranda and Fackler\n",
    "* [Distributions.jl](https://github.com/JuliaStats/Distributions.jl): Package for interfacing with various probability distributions\n",
    "* [Interpolations.jl](https://github.com/JuliaMath/Interpolations.jl): Interpolation library written by programmers in image processing field\n",
    "* [Optim.jl](https://github.com/JuliaNLSolvers/Optim.jl): A pure Julia version of many optimization routines\n",
    "* [Plots.jl](https://github.com/JuliaPlots/Plots.jl): An abstract plotting package which interfaces with various plotting backends\n",
    "* [QuantEcon](https://github.com/QuantEcon/QuantEcon.jl): Contains many tools relevant to economists\n",
    "\n",
    "### Exercise\n",
    "\n",
    "Install the following packages:\n",
    "\n",
    "* `Distributions`\n",
    "* `IJulia`\n",
    "* `Interpolations`\n",
    "* `KernelDensity`\n",
    "* `PlotlyJS`\n",
    "* `PyPlot`\n",
    "* `Plots`\n",
    "* `QuantEcon`\n",
    "\n",
    "We will use these packages for both Victoria and my presentations."
   ]
  },
  {
   "cell_type": "markdown",
   "metadata": {},
   "source": [
    "## Julia Types\n",
    "\n",
    "You should frequently define your own types -- Julia's JIT compilation helps ensure that user defined types will have same performance as the base types\n",
    "\n",
    "Key feature of Julia is multiple dispatch -- Often allows writing code in a generic way.\n",
    "\n",
    "Example using stochastic processes below"
   ]
  },
  {
   "cell_type": "code",
   "execution_count": null,
   "metadata": {},
   "outputs": [],
   "source": [
    "abstract type Exog end\n",
    "\n",
    "\"\"\"\n",
    "This type holds parameters for an AR(1) of the form\n",
    "\n",
    "y_{t+1} = rho * y_{t} + sigma * eps\n",
    "\n",
    "where eps ~ N(0, 1)\n",
    "\"\"\"\n",
    "struct AR1 <: Exog\n",
    "    rho::Float64  # you should put types on the fields of your types\n",
    "    sigma::Float64\n",
    "end\n",
    "\n",
    "\"\"\"\n",
    "This type holds a Markov chain which consists of\n",
    "\n",
    "* stochastic matrix (Π)\n",
    "* state values (vals)\n",
    "* intial distribution (x0)\n",
    "\"\"\"\n",
    "struct MarkovChain{T} <: Exog\n",
    "    Π::Matrix{Float64}\n",
    "    vals::Vector{T}\n",
    "    x0::Vector{Float64}\n",
    "end\n",
    "\n",
    "# functions to give `vals` and `x0` default arguments\n",
    "MarkovChain(Π, v) = MarkovChain(Π, v, fill(1/length(v), length(v)))\n",
    "MarkovChain(Π) = MarkovChain(Π, 1:size(Π, 1))"
   ]
  },
  {
   "cell_type": "code",
   "execution_count": null,
   "metadata": {},
   "outputs": [],
   "source": [
    "iter(ar1::AR1, x) = ar1.rho*x + ar1.sigma*randn()\n",
    "\n",
    "function iter(mc::MarkovChain, s::Int)\n",
    "    ind = searchsortedfirst(cumsum(vec(mc.Π[s, :])), rand())\n",
    "    return mc.vals[ind]\n",
    "end\n",
    "\n",
    "iter{T}(mc::MarkovChain{T}, v::T) = iter(mc, findfirst(mc.vals, v))\n",
    "iter(::Exog, x) = error(\"iter should be implemented by each Exog subtype\")\n",
    "\n",
    "state_type(ar1::AR1) = Float64\n",
    "state_type(mc::MarkovChain) = eltype(mc.vals)"
   ]
  },
  {
   "cell_type": "code",
   "execution_count": null,
   "metadata": {},
   "outputs": [],
   "source": [
    "function simulate{T<:Exog}(s::T, x0; capT=1000)\n",
    "    # Allocate memory\n",
    "    out = Array{state_type(s)}(capT)\n",
    "\n",
    "    # Simulate\n",
    "    out[1] = x0\n",
    "    for t=2:capT\n",
    "        out[t] = iter(s, out[t-1])\n",
    "    end\n",
    "\n",
    "    return out\n",
    "end"
   ]
  },
  {
   "cell_type": "code",
   "execution_count": null,
   "metadata": {},
   "outputs": [],
   "source": [
    "ar1 = AR1(0.9, 0.1)\n",
    "\n",
    "@time simulate(ar1, 0.0; capT=10_000_000);"
   ]
  },
  {
   "cell_type": "code",
   "execution_count": null,
   "metadata": {},
   "outputs": [],
   "source": [
    "mc = MarkovChain([0.75 0.25; 0.25 0.75], [1.0, 2.0])\n",
    "\n",
    "@time simulate(mc, mc.vals[1]; capT=10_000_000);"
   ]
  },
  {
   "cell_type": "markdown",
   "metadata": {},
   "source": [
    "## Misc Interesting Links\n",
    "\n",
    "* Tom Sargent [JuliaCon keynote](https://www.youtube.com/watch?v=KkKBwJkYgVk&t) on why economists should be interested in Julia\n",
    "* NYFed [blogpost](http://libertystreeteconomics.newyorkfed.org/2017/05/forecasting-with-julia.html) on moving their [forecasting models](https://github.com/FRBNY-DSGE/DSGE-2014-Sep) from Matlab to Julia\n",
    "* Brad Setzler's [tutorials](https://juliaeconomics.com/) on Julia for economists\n"
   ]
  },
  {
   "cell_type": "code",
   "execution_count": null,
   "metadata": {
    "collapsed": true
   },
   "outputs": [],
   "source": []
  }
 ],
 "metadata": {
  "anaconda-cloud": {},
  "kernelspec": {
   "display_name": "Julia 0.6.1-pre",
   "language": "julia",
   "name": "julia-0.6"
  },
  "language_info": {
   "file_extension": ".jl",
   "mimetype": "application/julia",
   "name": "julia",
   "version": "0.6.1"
  }
 },
 "nbformat": 4,
 "nbformat_minor": 2
}
